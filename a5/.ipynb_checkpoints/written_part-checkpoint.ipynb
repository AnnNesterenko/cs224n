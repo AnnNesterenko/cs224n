{
 "cells": [
  {
   "cell_type": "markdown",
   "metadata": {},
   "source": [
    "## Attention exploration"
   ]
  },
  {
   "cell_type": "markdown",
   "metadata": {},
   "source": [
    "**(a)**\n",
    "\n",
    "If c is approximately equal to $v_j$ for some $j \\in \\{1, \\ldots, n\\}$, than all the rest $\\alpha_i$ are close to zeros. Attention scores are normilized similarity scores between query and key value. So similarity is low. It expressed as the scalar product. This means that query vector is approximately perpendicular to $k_i$ for $i \\ne j$  "
   ]
  },
  {
   "cell_type": "markdown",
   "metadata": {},
   "source": [
    "**(b)**\n",
    "\n",
    "<img src='images/1.jpg' width=700>"
   ]
  },
  {
   "cell_type": "markdown",
   "metadata": {},
   "source": [
    "**(c)**\n",
    "\n",
    "**i**\n",
    "<img src='images/2.jpg' width=700>\n",
    "\n",
    "**ii**"
   ]
  },
  {
   "cell_type": "markdown",
   "metadata": {},
   "source": [
    "**(d)**"
   ]
  },
  {
   "cell_type": "markdown",
   "metadata": {},
   "source": [
    "**(e)**\n",
    "\n",
    "**i**\n",
    "<img src='images/3.jpg' width=700>\n",
    "\n",
    "<img src='images/4.jpg' width=700>\n",
    "\n",
    "**ii**\n",
    "\n",
    "<img src='images/5.jpg' width=700>"
   ]
  },
  {
   "cell_type": "code",
   "execution_count": null,
   "metadata": {},
   "outputs": [],
   "source": []
  }
 ],
 "metadata": {
  "kernelspec": {
   "display_name": "Python 3",
   "language": "python",
   "name": "python3"
  },
  "language_info": {
   "codemirror_mode": {
    "name": "ipython",
    "version": 3
   },
   "file_extension": ".py",
   "mimetype": "text/x-python",
   "name": "python",
   "nbconvert_exporter": "python",
   "pygments_lexer": "ipython3",
   "version": "3.8.1"
  }
 },
 "nbformat": 4,
 "nbformat_minor": 4
}
