{
 "cells": [
  {
   "cell_type": "markdown",
   "metadata": {},
   "source": [
    "## 1. Machine learning & neural networks"
   ]
  },
  {
   "cell_type": "markdown",
   "metadata": {},
   "source": [
    "**(a)**:\n",
    "\n",
    "1. **Momentum**\n",
    "\n",
    "Parameter **m** allows to use the previous gradient directions and only slightly change the direction of movement. So gradients move towards long term direction.\n",
    "A simple analogy here is a ball rolling on some surface with some mass. This ball has inertia and accelerates at the same direction of gradients.\n",
    "\n",
    "In overall it help to faster the convergence and also to get out of local minimums/maximums.\n",
    "\n",
    "2. **Momentum with adaptive learning rates**\n",
    "\n",
    "The point of this optimization is to reduce learning rate for parameters along which the gradients are too large and to increase learning rate for parameters along which the gradients are too small.\n",
    "\n",
    "In overall it helps parameters learn at a similar pace and faster convergence."
   ]
  },
  {
   "cell_type": "markdown",
   "metadata": {},
   "source": [
    "**(b)**\n",
    "\n",
    "1. $\\gamma = \\frac{1}{1 - p_{drop}}$. This allows not to change the average of sample during training.\n",
    "\n",
    "2. We use dropout during training to improve robustness and make model more stable. We don't use dropout during test because need full information about sample."
   ]
  },
  {
   "cell_type": "markdown",
   "metadata": {},
   "source": [
    "## 2. Neural Transition-Based Dependency Parsing"
   ]
  },
  {
   "cell_type": "markdown",
   "metadata": {},
   "source": [
    "**(a)**:\n",
    "<img src='parse-table.png'>"
   ]
  },
  {
   "cell_type": "markdown",
   "metadata": {},
   "source": [
    "**(b)**:\n",
    "\n",
    "Parsing of sentence with `n` words takes `2n` steps (or `2n+1` if we considering initial configuration as the first step). `n` steps are needful to put all the words into buffer and `n` steps to make dependencies (put words out of stack)."
   ]
  },
  {
   "cell_type": "markdown",
   "metadata": {},
   "source": [
    "**(f)**:\n",
    "\n",
    "1. **Error type:** Verb Phrase Attachment Error\n",
    "\n",
    "    **Incorrect dependency:** wedding -> fearing\n",
    "\n",
    "    **Correct dependency:** heading -> fearing\n",
    "    \n",
    "2. **Error type:** Coordination Attachment Error\n",
    "\n",
    "    **Incorrect dependency:** makes -> rescue\n",
    "\n",
    "    **Correct dependency:** rush -> rescue\n",
    "    \n",
    "3. **Error type:** Prepositional Phrase Attachment Error\n",
    "\n",
    "    **Incorrect dependency:** named -> Midland\n",
    "\n",
    "    **Correct dependency:** guy -> Midland\n",
    "   \n",
    "\n",
    "4. **Error type:** Modifier Attachment Error\n",
    "\n",
    "    **Incorrect dependency:** elements -> most\n",
    "\n",
    "    **Correct dependency:** crutial -> most"
   ]
  }
 ],
 "metadata": {
  "kernelspec": {
   "display_name": "Python 3",
   "language": "python",
   "name": "python3"
  },
  "language_info": {
   "codemirror_mode": {
    "name": "ipython",
    "version": 3
   },
   "file_extension": ".py",
   "mimetype": "text/x-python",
   "name": "python",
   "nbconvert_exporter": "python",
   "pygments_lexer": "ipython3",
   "version": "3.8.3"
  }
 },
 "nbformat": 4,
 "nbformat_minor": 4
}
